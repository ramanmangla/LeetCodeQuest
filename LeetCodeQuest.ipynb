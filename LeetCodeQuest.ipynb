{
 "cells": [
  {
   "cell_type": "code",
   "execution_count": 28,
   "metadata": {},
   "outputs": [],
   "source": [
    "import pandas as pd\n",
    "from requests import get\n",
    "from bs4 import BeautifulSoup\n",
    "import re"
   ]
  },
  {
   "cell_type": "code",
   "execution_count": 29,
   "metadata": {},
   "outputs": [],
   "source": [
    "response = get('http://www.learn4master.com/interview-questions/leetcode/leetcode-problems-classified-by-company')\n",
    "soup = BeautifulSoup(response.text, 'html.parser')\n",
    "main_content = soup.find(\"div\", class_=\"entry-content\")"
   ]
  },
  {
   "cell_type": "code",
   "execution_count": 39,
   "metadata": {},
   "outputs": [],
   "source": [
    "paragraphs = main_content.find_all(\"p\")\n",
    "\n",
    "lines = [] \n",
    "\n",
    "for line in paragraphs:\n",
    "    if bool(re.search(r'\\d', str(line))):\n",
    "        lines.extend(str(line).split('<'))"
   ]
  },
  {
   "cell_type": "code",
   "execution_count": 40,
   "metadata": {},
   "outputs": [],
   "source": [
    "for line in lines:\n",
    "    if line.find('(') == -1 and line.find('%') == -1:\n",
    "        lines.remove(line)"
   ]
  },
  {
   "cell_type": "code",
   "execution_count": 60,
   "metadata": {},
   "outputs": [],
   "source": [
    "headers = []\n",
    "\n",
    "for line in lines:\n",
    "    if line.find('(') != -1:\n",
    "        temp = re.search(\">(.*)[()]\", line)\n",
    "        \n",
    "        if temp:\n",
    "            headers.append(temp.group().replace('>', ''))"
   ]
  },
  {
   "cell_type": "code",
   "execution_count": 61,
   "metadata": {},
   "outputs": [
    {
     "data": {
      "text/plain": [
       "['LinkedIn(39)',\n",
       " 'Google(90)',\n",
       " 'Uber(42)',\n",
       " 'Airbnb(20)',\n",
       " 'Facebook(79)',\n",
       " 'Twitter(21)',\n",
       " 'Zenefit(21)',\n",
       " 'Snapchat(15)',\n",
       " 'Apple(28)',\n",
       " 'Yahoo(11)',\n",
       " 'Dropbox(7)',\n",
       " 'Bloomberg(57)',\n",
       " 'Yelp(12)',\n",
       " 'Palantir(7)',\n",
       " 'Adobe(12)']"
      ]
     },
     "execution_count": 61,
     "metadata": {},
     "output_type": "execute_result"
    }
   ],
   "source": [
    "headers"
   ]
  },
  {
   "cell_type": "code",
   "execution_count": null,
   "metadata": {},
   "outputs": [],
   "source": []
  }
 ],
 "metadata": {
  "kernelspec": {
   "display_name": "Python 3",
   "language": "python",
   "name": "python3"
  },
  "language_info": {
   "codemirror_mode": {
    "name": "ipython",
    "version": 3
   },
   "file_extension": ".py",
   "mimetype": "text/x-python",
   "name": "python",
   "nbconvert_exporter": "python",
   "pygments_lexer": "ipython3",
   "version": "3.7.3"
  }
 },
 "nbformat": 4,
 "nbformat_minor": 2
}
